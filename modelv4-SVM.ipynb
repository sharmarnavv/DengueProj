{
 "cells": [
  {
   "cell_type": "code",
   "execution_count": 2,
   "id": "35d8dfb9-8ed9-4385-834d-176e1c23c655",
   "metadata": {},
   "outputs": [],
   "source": [
    "from sklearn.svm import SVR\n",
    "from sklearn.metrics import mean_absolute_error, mean_squared_error, r2_score\n",
    "import joblib\n",
    "import pandas as pd\n",
    "import numpy as np\n",
    "from sklearn.model_selection import train_test_split\n",
    "from sklearn.preprocessing import StandardScaler"
   ]
  },
  {
   "cell_type": "code",
   "execution_count": 3,
   "id": "e3a61c2a-9632-4989-b7b9-26e0e0b5726e",
   "metadata": {},
   "outputs": [],
   "source": [
    "df = pd.read_csv(\"cleaned_dengue_dataset.csv\")\n",
    "X = df.drop(columns=['cases'])  \n",
    "y = df['cases']  \n",
    "\n",
    "X_train, X_test, y_train, y_test = train_test_split(X, y, test_size=0.2, random_state=42, shuffle=False)\n",
    "\n",
    "scaler = StandardScaler()\n",
    "X_train_scaled = scaler.fit_transform(X_train)\n",
    "X_test_scaled = scaler.transform(X_test)"
   ]
  },
  {
   "cell_type": "code",
   "execution_count": 4,
   "id": "288190b2-af0b-42e5-a6e6-e016d30a90ab",
   "metadata": {},
   "outputs": [
    {
     "name": "stdout",
     "output_type": "stream",
     "text": [
      "Support Vector Machine - Mean Squared Error (MSE): 7392.8025897406815\n",
      "Support Vector Machine - Root Mean Squared Error (RMSE): 85.98140839588918\n",
      "Support Vector Machine - R-squared (R2): 0.7920932581727644\n"
     ]
    },
    {
     "data": {
      "text/plain": [
       "['models/svr_model.joblib']"
      ]
     },
     "execution_count": 4,
     "metadata": {},
     "output_type": "execute_result"
    }
   ],
   "source": [
    "model_svr = SVR(kernel='rbf', C=100, epsilon=0.1)\n",
    "\n",
    "model_svr.fit(X_train_scaled, y_train)\n",
    "\n",
    "y_pred_svr = model_svr.predict(X_test_scaled)\n",
    "\n",
    "mae_svr = mean_absolute_error(y_test, y_pred_svr)\n",
    "mse_svr = mean_squared_error(y_test, y_pred_svr)\n",
    "rmse_svr = np.sqrt(mse_svr)\n",
    "r2_svr = r2_score(y_test, y_pred_svr)\n",
    "\n",
    "print(f\"Support Vector Machine - Mean Squared Error (MSE): {mse_svr}\")\n",
    "print(f\"Support Vector Machine - Root Mean Squared Error (RMSE): {rmse_svr}\")\n",
    "print(f\"Support Vector Machine - R-squared (R2): {r2_svr}\")\n",
    "\n",
    "joblib.dump(model_svr, 'models/svr_model.joblib')"
   ]
  },
  {
   "cell_type": "code",
   "execution_count": 5,
   "id": "d4b3c02d-6943-41ae-81e1-01f4d8b692cf",
   "metadata": {},
   "outputs": [
    {
     "name": "stdout",
     "output_type": "stream",
     "text": [
      "Predicted dengue cases (SVR): 294.34\n"
     ]
    }
   ],
   "source": [
    "def predict_dengue_cases_svr(input_data):\n",
    "    model_svr = joblib.load('models/svr_model.joblib')\n",
    "    \n",
    "    input_df = pd.DataFrame([input_data], columns=X.columns)\n",
    "    \n",
    "    input_scaled = scaler.transform(input_df)\n",
    "    \n",
    "    prediction = model_svr.predict(input_scaled)[0]\n",
    "    \n",
    "    return round(prediction, 2)\n",
    "sample_input = [2025, 15, 10.5, 32.0, 22.5, 0.72, 26.0, 400]  \n",
    "print(f\"Predicted dengue cases (SVR): {predict_dengue_cases_svr(sample_input)}\")\n"
   ]
  }
 ],
 "metadata": {
  "kernelspec": {
   "display_name": "Python ML",
   "language": "python",
   "name": "mlenv"
  },
  "language_info": {
   "codemirror_mode": {
    "name": "ipython",
    "version": 3
   },
   "file_extension": ".py",
   "mimetype": "text/x-python",
   "name": "python",
   "nbconvert_exporter": "python",
   "pygments_lexer": "ipython3",
   "version": "3.13.1"
  }
 },
 "nbformat": 4,
 "nbformat_minor": 5
}
