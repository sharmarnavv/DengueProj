{
 "cells": [
  {
   "cell_type": "code",
   "execution_count": 2,
   "id": "9585f9c2-8466-4743-9855-876aadb6a3f3",
   "metadata": {},
   "outputs": [
    {
     "name": "stdout",
     "output_type": "stream",
     "text": [
      "Mean Squared Error (MSE): 1793.995536499896\n",
      "Root Mean Squared Error (RMSE): 42.35558447831757\n",
      "R-squared (R2): 0.9496025594116615\n",
      "Predicted dengue cases: 407.45\n"
     ]
    },
    {
     "name": "stderr",
     "output_type": "stream",
     "text": [
      "D:\\Files\\VSC\\Learning ML\\mlenv\\Lib\\site-packages\\sklearn\\utils\\validation.py:2739: UserWarning: X does not have valid feature names, but StandardScaler was fitted with feature names\n",
      "  warnings.warn(\n"
     ]
    }
   ],
   "source": [
    "import pandas as pd\n",
    "import numpy as np\n",
    "import joblib\n",
    "from sklearn.model_selection import train_test_split\n",
    "from sklearn.preprocessing import StandardScaler\n",
    "from sklearn.linear_model import LinearRegression\n",
    "from sklearn.metrics import mean_absolute_error, mean_squared_error, r2_score\n",
    "\n",
    "df = pd.read_csv(\"bolivia_dataset.csv\")  \n",
    "\n",
    "\n",
    "drop_columns = [\"casos acumulados\", \"incidencia_x_100milHab\", \"casos_estandarizados\", \"población\", \"department\", \"estacion_met\"]\n",
    "df_cleaned = df.drop(columns=drop_columns, errors='ignore')\n",
    "\n",
    "\n",
    "df_cleaned = df_cleaned.dropna()\n",
    "\n",
    "df_cleaned['NDVI'] = df_cleaned['NDVI'].fillna(df_cleaned['NDVI'].mean())\n",
    "df_cleaned['NINO_3_4'] = df_cleaned['NINO_3_4'].fillna(df_cleaned['NINO_3_4'].mean())\n",
    "\n",
    "\n",
    "for lag in range(1, 3):  # Adding 2 previous weeks' cases\n",
    "    df_cleaned[f'cases_lag_{lag}'] = df_cleaned['cases'].shift(lag)\n",
    "\n",
    "df_cleaned = df_cleaned.dropna().reset_index(drop=True)\n",
    "\n",
    "\n",
    "df_cleaned.to_csv(\"cleaned_dengue_dataset.csv\", index=False)\n",
    "\n",
    "# Defining features (X) and target variable (y)\n",
    "X = df_cleaned.drop(columns=['cases'])  \n",
    "y = df_cleaned['cases']  \n",
    "\n",
    "X_train, X_test, y_train, y_test = train_test_split(X, y, test_size=0.2, random_state=42, shuffle=False)\n",
    "\n",
    "scaler = StandardScaler()\n",
    "X_train_scaled = scaler.fit_transform(X_train)\n",
    "X_test_scaled = scaler.transform(X_test)\n",
    "\n",
    "model = LinearRegression()\n",
    "model.fit(X_train_scaled, y_train)\n",
    "\n",
    "y_pred = model.predict(X_test_scaled)\n",
    "\n",
    "mae = mean_absolute_error(y_test, y_pred)\n",
    "mse = mean_squared_error(y_test, y_pred)\n",
    "rmse = np.sqrt(mse)\n",
    "r2 = r2_score(y_test, y_pred)\n",
    "\n",
    "joblib.dump(model, 'models/linear-regressor.joblib')\n",
    "\n",
    "print(f\"Mean Squared Error (MSE): {mse}\")\n",
    "print(f\"Root Mean Squared Error (RMSE): {rmse}\")\n",
    "print(f\"R-squared (R2): {r2}\")\n",
    "\n",
    "def predict_dengue_cases(input_data):\n",
    "    input_scaled = scaler.transform([input_data])  \n",
    "    prediction = model.predict(input_scaled)[0]  \n",
    "    return round(prediction, 2)\n",
    "\n",
    "\n",
    "#[year, epidemic week, precipitation, maxTemp, minTemp, NDVI (vegetation), NINO_3_4 (sea surface anomalies), lag_1, lag_2]\n",
    "sample_input = [2025, 15, 10.5, 32.0, 22.5, 0.72, 26.0, 400, 380]  \n",
    "print(f\"Predicted dengue cases: {predict_dengue_cases(sample_input)}\")\n"
   ]
  }
 ],
 "metadata": {
  "kernelspec": {
   "display_name": "Python ML",
   "language": "python",
   "name": "mlenv"
  },
  "language_info": {
   "codemirror_mode": {
    "name": "ipython",
    "version": 3
   },
   "file_extension": ".py",
   "mimetype": "text/x-python",
   "name": "python",
   "nbconvert_exporter": "python",
   "pygments_lexer": "ipython3",
   "version": "3.13.1"
  }
 },
 "nbformat": 4,
 "nbformat_minor": 5
}
