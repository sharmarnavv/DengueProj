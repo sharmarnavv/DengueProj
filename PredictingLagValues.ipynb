{
 "cells": [
  {
   "cell_type": "code",
   "execution_count": 6,
   "id": "36db01da-994e-47fa-ae29-015c98d19add",
   "metadata": {},
   "outputs": [
    {
     "name": "stdout",
     "output_type": "stream",
     "text": [
      "Mean Absolute Error (MAE): 10.962682306232411\n",
      "Mean Squared Error (MSE): 500.34840319894045\n",
      "Root Mean Squared Error (RMSE): 22.36846895071141\n",
      "R-squared (R2): 0.98592877261028\n",
      "Predicted dengue cases: 91.57\n"
     ]
    },
    {
     "name": "stderr",
     "output_type": "stream",
     "text": [
      "D:\\Files\\VSC\\Learning ML\\mlenv\\Lib\\site-packages\\sklearn\\utils\\validation.py:2739: UserWarning: X does not have valid feature names, but StandardScaler was fitted with feature names\n",
      "  warnings.warn(\n"
     ]
    }
   ],
   "source": [
    "import pandas as pd\n",
    "import numpy as np\n",
    "from sklearn.model_selection import train_test_split\n",
    "from sklearn.preprocessing import StandardScaler\n",
    "from sklearn.linear_model import LinearRegression\n",
    "from sklearn.metrics import mean_absolute_error, mean_squared_error, r2_score\n",
    "\n",
    "df = pd.read_csv(\"bolivia_dataset.csv\")  \n",
    "\n",
    "drop_columns = [\"casos acumulados\", \"incidencia_x_100milHab\", \"casos_estandarizados\", \"población\", \"department\", \"estacion_met\"]\n",
    "df_cleaned = df.drop(columns=drop_columns, errors='ignore')\n",
    "\n",
    "df_cleaned = df_cleaned.dropna()\n",
    "df_cleaned['NDVI'] = df_cleaned['NDVI'].fillna(df_cleaned['NDVI'].mean())\n",
    "df_cleaned['NINO_3_4'] = df_cleaned['NINO_3_4'].fillna(df_cleaned['NINO_3_4'].mean())\n",
    "\n",
    "df_cleaned['cases_avg_2w'] = df_cleaned['cases'].rolling(window=2).mean()\n",
    "\n",
    "df_cleaned = df_cleaned.dropna().reset_index(drop=True)\n",
    "\n",
    "df_cleaned.to_csv(\"cleaned_dengue_dataset.csv\", index=False)\n",
    "\n",
    "# Define features (X) and target variable (y)\n",
    "X = df_cleaned.drop(columns=['cases'])  \n",
    "y = df_cleaned['cases']  \n",
    "\n",
    "X_train, X_test, y_train, y_test = train_test_split(X, y, test_size=0.2, random_state=38, shuffle=False)\n",
    "\n",
    "scaler = StandardScaler()\n",
    "X_train_scaled = scaler.fit_transform(X_train)\n",
    "X_test_scaled = scaler.transform(X_test)\n",
    "\n",
    "model = LinearRegression()\n",
    "model.fit(X_train_scaled, y_train)\n",
    "\n",
    "y_pred = model.predict(X_test_scaled)\n",
    "\n",
    "mae = mean_absolute_error(y_test, y_pred)\n",
    "mse = mean_squared_error(y_test, y_pred)\n",
    "rmse = np.sqrt(mse)\n",
    "r2 = r2_score(y_test, y_pred)\n",
    "\n",
    "print(f\"Mean Absolute Error (MAE): {mae}\")\n",
    "print(f\"Mean Squared Error (MSE): {mse}\")\n",
    "print(f\"Root Mean Squared Error (RMSE): {rmse}\")\n",
    "print(f\"R-squared (R2): {r2}\")\n",
    "\n",
    "default_cases_avg_2w = df_cleaned['cases_avg_2w'].mean()\n",
    "\n",
    "def predict_dengue_cases(input_data):\n",
    "    \"\"\"\n",
    "    Predict dengue cases given the current weather conditions.\n",
    "    If past cases are unknown, the model uses the mean of past cases from training data.\n",
    "    \"\"\"\n",
    "    input_data.append(default_cases_avg_2w)\n",
    "\n",
    "    input_scaled = scaler.transform([input_data])\n",
    "    \n",
    "    prediction = model.predict(input_scaled)[0]\n",
    "    \n",
    "    return round(prediction, 2)\n",
    "\n",
    "# Format: [year, epidemiological week, precipitation, maxTemp, minTemp, NDVI, NINO_3_4]\n",
    "sample_input = [2025, 15, 10.5, 32.0, 22.5, 0.72, 26.0]  \n",
    "print(f\"Predicted dengue cases: {predict_dengue_cases(sample_input)}\")"
   ]
  }
 ],
 "metadata": {
  "kernelspec": {
   "display_name": "Python ML",
   "language": "python",
   "name": "mlenv"
  },
  "language_info": {
   "codemirror_mode": {
    "name": "ipython",
    "version": 3
   },
   "file_extension": ".py",
   "mimetype": "text/x-python",
   "name": "python",
   "nbconvert_exporter": "python",
   "pygments_lexer": "ipython3",
   "version": "3.13.1"
  }
 },
 "nbformat": 4,
 "nbformat_minor": 5
}
