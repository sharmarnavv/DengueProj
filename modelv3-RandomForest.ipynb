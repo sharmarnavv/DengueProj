{
 "cells": [
  {
   "cell_type": "code",
   "execution_count": 5,
   "id": "9303f831-af7a-4332-9415-c7c641b36c90",
   "metadata": {},
   "outputs": [],
   "source": [
    "from sklearn.ensemble import RandomForestRegressor\n",
    "import joblib\n",
    "import pandas as pd\n",
    "import numpy as np\n",
    "from sklearn.model_selection import train_test_split\n",
    "from sklearn.preprocessing import StandardScaler\n",
    "from sklearn.metrics import mean_absolute_error, mean_squared_error, r2_score"
   ]
  },
  {
   "cell_type": "code",
   "execution_count": 7,
   "id": "18ff4e86-7fb3-4e18-9cab-d9225a112353",
   "metadata": {},
   "outputs": [],
   "source": [
    "df = pd.read_csv(\"cleaned_dengue_dataset.csv\")\n",
    "X = df.drop(columns=['cases'])  \n",
    "y = df['cases']  \n",
    "\n",
    "X_train, X_test, y_train, y_test = train_test_split(X, y, test_size=0.2, random_state=42, shuffle=False)\n",
    "\n",
    "scaler = StandardScaler()\n",
    "X_train_scaled = scaler.fit_transform(X_train)\n",
    "X_test_scaled = scaler.transform(X_test)"
   ]
  },
  {
   "cell_type": "code",
   "execution_count": 9,
   "id": "de4a071b-6b13-42c2-9cdd-aea9f07bd4c0",
   "metadata": {},
   "outputs": [
    {
     "name": "stdout",
     "output_type": "stream",
     "text": [
      "Random Forest - Mean Squared Error (MSE): 721.7238026286966\n",
      "Random Forest - Root Mean Squared Error (RMSE): 26.86491769257253\n",
      "Random Forest - R-squared (R2): 0.9797030635564478\n"
     ]
    }
   ],
   "source": [
    "model_rf = RandomForestRegressor(n_estimators=100, random_state=42)\n",
    "model_rf.fit(X_train_scaled, y_train)\n",
    "y_pred_rf = model_rf.predict(X_test_scaled)\n",
    "\n",
    "mae_rf = mean_absolute_error(y_test, y_pred_rf)\n",
    "mse_rf = mean_squared_error(y_test, y_pred_rf)\n",
    "rmse_rf = np.sqrt(mse_rf)\n",
    "r2_rf = r2_score(y_test, y_pred_rf)\n",
    "\n",
    "print(f\"Random Forest - Mean Squared Error (MSE): {mse_rf}\")\n",
    "print(f\"Random Forest - Root Mean Squared Error (RMSE): {rmse_rf}\")\n",
    "print(f\"Random Forest - R-squared (R2): {r2_rf}\")\n"
   ]
  },
  {
   "cell_type": "code",
   "execution_count": 10,
   "id": "d2f9fbe3-0e11-4621-90cc-add8e43cc69e",
   "metadata": {},
   "outputs": [
    {
     "data": {
      "text/plain": [
       "['models/random_forest_model.joblib']"
      ]
     },
     "execution_count": 10,
     "metadata": {},
     "output_type": "execute_result"
    }
   ],
   "source": [
    "joblib.dump(model_rf, 'models/random_forest_model.joblib')"
   ]
  },
  {
   "cell_type": "code",
   "execution_count": 14,
   "id": "a3097a16-df96-4548-8cc4-af1d3109b6cd",
   "metadata": {},
   "outputs": [
    {
     "name": "stdout",
     "output_type": "stream",
     "text": [
      "Predicted dengue cases (Random Forest): 417.78\n"
     ]
    }
   ],
   "source": [
    "def predict_dengue_cases_rf(input_data):\n",
    "    input_df = pd.DataFrame([input_data], columns=X.columns)  \n",
    "    input_scaled = scaler.transform(input_df)  \n",
    "    prediction = model_rf.predict(input_scaled)[0]\n",
    "    return round(prediction, 2)\n",
    "\n",
    "sample_input = [2025, 15, 10.5, 32.0, 22.5, 0.72, 26.0, 400]  \n",
    "print(f\"Predicted dengue cases (Random Forest): {predict_dengue_cases_rf(sample_input)}\")\n"
   ]
  }
 ],
 "metadata": {
  "kernelspec": {
   "display_name": "Python ML",
   "language": "python",
   "name": "mlenv"
  },
  "language_info": {
   "codemirror_mode": {
    "name": "ipython",
    "version": 3
   },
   "file_extension": ".py",
   "mimetype": "text/x-python",
   "name": "python",
   "nbconvert_exporter": "python",
   "pygments_lexer": "ipython3",
   "version": "3.13.1"
  }
 },
 "nbformat": 4,
 "nbformat_minor": 5
}
